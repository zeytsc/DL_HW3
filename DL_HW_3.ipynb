{
 "cells": [
  {
   "cell_type": "code",
   "execution_count": 33,
   "metadata": {},
   "outputs": [],
   "source": [
    "import pandas as pd\n",
    "import numpy as np\n",
    "from sklearn.model_selection import train_test_split\n",
    "import datetime as dt\n",
    "from statistics import mean\n",
    "import pdb\n",
    "import itertools\n",
    "import csv"
   ]
  },
  {
   "cell_type": "code",
   "execution_count": 34,
   "metadata": {},
   "outputs": [],
   "source": [
    "from keras import optimizers\n",
    "from keras.utils import plot_model\n",
    "from keras.models import Sequential, Model\n",
    "from keras.layers import Dense, TimeDistributed, Flatten, Dropout\n",
    "from sklearn.metrics import mean_squared_error\n",
    "from sklearn.preprocessing import minmax_scale\n",
    "from sklearn.model_selection import train_test_split\n",
    "from keras.preprocessing.sequence import TimeseriesGenerator\n",
    "from keras.layers.advanced_activations import LeakyReLU"
   ]
  },
  {
   "cell_type": "code",
   "execution_count": 4,
   "metadata": {},
   "outputs": [],
   "source": [
    "#reading data from webpage\n",
    "url = \"https://www.metnet.hu/napi-adatok?sub=4&pid=10602&date=2009-10\"\n",
    "tables = pd.io.html.read_html(url)"
   ]
  },
  {
   "cell_type": "code",
   "execution_count": 5,
   "metadata": {},
   "outputs": [
    {
     "data": {
      "text/html": [
       "<div>\n",
       "<style scoped>\n",
       "    .dataframe tbody tr th:only-of-type {\n",
       "        vertical-align: middle;\n",
       "    }\n",
       "\n",
       "    .dataframe tbody tr th {\n",
       "        vertical-align: top;\n",
       "    }\n",
       "\n",
       "    .dataframe thead th {\n",
       "        text-align: right;\n",
       "    }\n",
       "</style>\n",
       "<table border=\"1\" class=\"dataframe\">\n",
       "  <thead>\n",
       "    <tr style=\"text-align: right;\">\n",
       "      <th></th>\n",
       "      <th>0</th>\n",
       "      <th>1</th>\n",
       "      <th>2</th>\n",
       "      <th>3</th>\n",
       "      <th>4</th>\n",
       "      <th>5</th>\n",
       "    </tr>\n",
       "  </thead>\n",
       "  <tbody>\n",
       "    <tr>\n",
       "      <th>0</th>\n",
       "      <td>Nap</td>\n",
       "      <td>T min</td>\n",
       "      <td>T max</td>\n",
       "      <td>Csapadék</td>\n",
       "      <td>Jelenségek</td>\n",
       "      <td>Hóréteg</td>\n",
       "    </tr>\n",
       "    <tr>\n",
       "      <th>1</th>\n",
       "      <td>1.</td>\n",
       "      <td>13,3 °C</td>\n",
       "      <td>22,4 °C</td>\n",
       "      <td>0,0 mm</td>\n",
       "      <td>NaN</td>\n",
       "      <td>0 cm</td>\n",
       "    </tr>\n",
       "    <tr>\n",
       "      <th>2</th>\n",
       "      <td>Leírás:</td>\n",
       "      <td>Leírás:</td>\n",
       "      <td>Leírás:</td>\n",
       "      <td>Leírás:</td>\n",
       "      <td>Leírás:</td>\n",
       "      <td>Leírás:</td>\n",
       "    </tr>\n",
       "    <tr>\n",
       "      <th>3</th>\n",
       "      <td>2.</td>\n",
       "      <td>12,6 °C</td>\n",
       "      <td>20,1 °C</td>\n",
       "      <td>0,0 mm</td>\n",
       "      <td>NaN</td>\n",
       "      <td>0 cm</td>\n",
       "    </tr>\n",
       "    <tr>\n",
       "      <th>4</th>\n",
       "      <td>Leírás:</td>\n",
       "      <td>Leírás:</td>\n",
       "      <td>Leírás:</td>\n",
       "      <td>Leírás:</td>\n",
       "      <td>Leírás:</td>\n",
       "      <td>Leírás:</td>\n",
       "    </tr>\n",
       "  </tbody>\n",
       "</table>\n",
       "</div>"
      ],
      "text/plain": [
       "         0        1        2         3           4        5\n",
       "0      Nap    T min    T max  Csapadék  Jelenségek  Hóréteg\n",
       "1       1.  13,3 °C  22,4 °C    0,0 mm         NaN     0 cm\n",
       "2  Leírás:  Leírás:  Leírás:   Leírás:     Leírás:  Leírás:\n",
       "3       2.  12,6 °C  20,1 °C    0,0 mm         NaN     0 cm\n",
       "4  Leírás:  Leírás:  Leírás:   Leírás:     Leírás:  Leírás:"
      ]
     },
     "execution_count": 5,
     "metadata": {},
     "output_type": "execute_result"
    }
   ],
   "source": [
    "#choosing the second table from the tables object\n",
    "#data summary\n",
    "tables[1].head()"
   ]
  },
  {
   "cell_type": "code",
   "execution_count": 6,
   "metadata": {},
   "outputs": [],
   "source": [
    "#data cleaning, removing unnecessary columns and characters as we only need the values in the min and max columns\n",
    "avgs = []\n",
    "daterange = pd.date_range(start='10/1/2009', end='11/1/2019', freq='M')\n",
    "for single_date in daterange:\n",
    "    single_date = single_date.to_pydatetime()\n",
    "    date = single_date.date()\n",
    "    url = \"https://www.metnet.hu/napi-adatok?sub=4&pid=10602&date=%s\" % date.strftime(\"%Y-%m-%d\")\n",
    "    if date.strftime(\"%Y-%m-%d\").split('-')[0] == '2019': # leaving out the test data\n",
    "        continue\n",
    "    if date.strftime(\"%Y-%m-%d\").split('-')[1] not in ['9', '10', '11']: # choosing only september, october and november\n",
    "        continue\n",
    "    tables = pd.io.html.read_html(url)\n",
    "    table = tables[1]\n",
    "    table = table.drop([3, 4, 5], axis=1)\n",
    "    table[0] = table[0].str.replace(r'^[a-zA-Z]+.*','') # filtering out unnecessary words and symbols\n",
    "    table[1] = table[1].str.replace(r'^[a-zA-Z]+.*','')\n",
    "    table[2] = table[2].str.replace(r'^[a-zA-Z]+.*','')\n",
    "    table = table[table[1] != '']\n",
    "    table[1] = table[1].str.replace('°','')\n",
    "    table[2] = table[2].str.replace('°','')\n",
    "    table[1] = table[1].str.replace(',','.')\n",
    "    table[1] = table[1].str.replace('C','')\n",
    "    table[2] = table[2].str.replace(',','.')\n",
    "    table[2] = table[2].str.replace('C','')\n",
    "    table = table.set_index(0)\n",
    "    minmax = np.array(table, dtype=np.float32).tolist()\n",
    "    middle = [mean(i) for i in minmax] # taking the average of max and min temperatures\n",
    "    avgs.append(middle)\n",
    "merged_avgs = list(itertools.chain.from_iterable(avgs)) # flattened list of lists\n",
    "merged_avgs = list(filter(lambda a: a != 'nan', merged_avgs))\n",
    "\n"
   ]
  },
  {
   "cell_type": "code",
   "execution_count": 7,
   "metadata": {},
   "outputs": [],
   "source": [
    "# split a univariate sequence into samples\n",
    "def split_sequence(sequence, n_steps_in, n_steps_out):\n",
    "    X, y = list(), list()\n",
    "    for i in range(len(sequence)):\n",
    "        # find the end of this pattern\n",
    "        end_ix = i + n_steps_in\n",
    "        out_end_ix = end_ix + n_steps_out\n",
    "        # check if we are beyond the sequence\n",
    "        if out_end_ix > len(sequence):\n",
    "            break\n",
    "        # gather input and output parts of the pattern\n",
    "        seq_x, seq_y = sequence[i:end_ix], sequence[end_ix:out_end_ix]\n",
    "        X.append(seq_x)\n",
    "        y.append(seq_y[-1])\n",
    "    return np.array(X), np.array(y)"
   ]
  },
  {
   "cell_type": "code",
   "execution_count": 39,
   "metadata": {},
   "outputs": [
    {
     "name": "stdout",
     "output_type": "stream",
     "text": [
      "_________________________________________________________________\n",
      "Layer (type)                 Output Shape              Param #   \n",
      "=================================================================\n",
      "dense_51 (Dense)             (None, 100)               9100      \n",
      "_________________________________________________________________\n",
      "dense_52 (Dense)             (None, 50)                5050      \n",
      "_________________________________________________________________\n",
      "dense_53 (Dense)             (None, 30)                1530      \n",
      "_________________________________________________________________\n",
      "dense_54 (Dense)             (None, 15)                465       \n",
      "_________________________________________________________________\n",
      "dense_55 (Dense)             (None, 1)                 16        \n",
      "=================================================================\n",
      "Total params: 16,161\n",
      "Trainable params: 16,161\n",
      "Non-trainable params: 0\n",
      "_________________________________________________________________\n"
     ]
    },
    {
     "data": {
      "text/plain": [
       "<keras.callbacks.History at 0x1a37499da0>"
      ]
     },
     "execution_count": 39,
     "metadata": {},
     "output_type": "execute_result"
    }
   ],
   "source": [
    "# I divided the data into 90 dim vectors and 1 dim labels so I can predict one day that is either the next day, a week later\n",
    "# or a month later\n",
    "raw_seq = merged_avgs\n",
    "n_steps_in = 90\n",
    "n_steps_out = 1\n",
    "# split into samples\n",
    "X, y = split_sequence(raw_seq, n_steps_in, n_steps_out)\n",
    "# writing training set to csv file\n",
    "wtr = csv.writer(open ('out_day.csv', 'w'), delimiter=',', lineterminator='\\n')\n",
    "for x in X : wtr.writerow ([x])\n",
    "\n",
    "model_day = Sequential()\n",
    "model_day.add(Dense(100, activation='relu', input_dim=n_steps_in))\n",
    "model_day.add(Dense(50, activation='relu'))\n",
    "model_day.add(Dense(30, activation='relu'))\n",
    "model_day.add(Dense(15, activation='relu'))\n",
    "model_day.add(Dense(1))\n",
    "model_day.compile(optimizer='adam', loss='mse')\n",
    "model_day.summary()\n",
    "\n",
    "model_day.fit(X, y, epochs=40, verbose=0)"
   ]
  },
  {
   "cell_type": "code",
   "execution_count": 40,
   "metadata": {},
   "outputs": [
    {
     "name": "stdout",
     "output_type": "stream",
     "text": [
      "_________________________________________________________________\n",
      "Layer (type)                 Output Shape              Param #   \n",
      "=================================================================\n",
      "dense_56 (Dense)             (None, 100)               9100      \n",
      "_________________________________________________________________\n",
      "dense_57 (Dense)             (None, 50)                5050      \n",
      "_________________________________________________________________\n",
      "dense_58 (Dense)             (None, 30)                1530      \n",
      "_________________________________________________________________\n",
      "dense_59 (Dense)             (None, 15)                465       \n",
      "_________________________________________________________________\n",
      "dense_60 (Dense)             (None, 1)                 16        \n",
      "=================================================================\n",
      "Total params: 16,161\n",
      "Trainable params: 16,161\n",
      "Non-trainable params: 0\n",
      "_________________________________________________________________\n"
     ]
    },
    {
     "data": {
      "text/plain": [
       "<keras.callbacks.History at 0x1a37b37e48>"
      ]
     },
     "execution_count": 40,
     "metadata": {},
     "output_type": "execute_result"
    }
   ],
   "source": [
    "# choose a number of time steps\n",
    "n_steps_in = 90\n",
    "n_steps_out = 7\n",
    "# split into samples\n",
    "X, y = split_sequence(raw_seq, n_steps_in, n_steps_out)\n",
    "# writing training set to csv file\n",
    "wtr = csv.writer(open ('out_month.csv', 'w'), delimiter=',', lineterminator='\\n')\n",
    "for x in X : wtr.writerow ([x])\n",
    "\n",
    "model_week = Sequential()\n",
    "model_week.add(Dense(100, activation='relu', input_dim=n_steps_in))\n",
    "model_week.add(Dense(50, activation='relu'))\n",
    "model_week.add(Dense(30, activation='relu'))\n",
    "model_week.add(Dense(15, activation='relu'))\n",
    "model_week.add(Dense(1))\n",
    "model_week.compile(optimizer='adam', loss='mse')\n",
    "model_week.summary()\n",
    "\n",
    "model_week.fit(X, y, epochs=40, verbose=0)"
   ]
  },
  {
   "cell_type": "code",
   "execution_count": 41,
   "metadata": {},
   "outputs": [
    {
     "name": "stdout",
     "output_type": "stream",
     "text": [
      "_________________________________________________________________\n",
      "Layer (type)                 Output Shape              Param #   \n",
      "=================================================================\n",
      "dense_61 (Dense)             (None, 100)               9100      \n",
      "_________________________________________________________________\n",
      "dense_62 (Dense)             (None, 50)                5050      \n",
      "_________________________________________________________________\n",
      "dense_63 (Dense)             (None, 30)                1530      \n",
      "_________________________________________________________________\n",
      "dense_64 (Dense)             (None, 15)                465       \n",
      "_________________________________________________________________\n",
      "dense_65 (Dense)             (None, 1)                 16        \n",
      "=================================================================\n",
      "Total params: 16,161\n",
      "Trainable params: 16,161\n",
      "Non-trainable params: 0\n",
      "_________________________________________________________________\n"
     ]
    },
    {
     "data": {
      "text/plain": [
       "<keras.callbacks.History at 0x1a37fdffd0>"
      ]
     },
     "execution_count": 41,
     "metadata": {},
     "output_type": "execute_result"
    }
   ],
   "source": [
    "# choose a number of time steps\n",
    "raw_seq=merged_avgs\n",
    "n_steps_in = 90\n",
    "n_steps_out = 30\n",
    "# split into samples\n",
    "X, y = split_sequence(raw_seq, n_steps_in, n_steps_out)\n",
    "# writing training set to csv file\n",
    "wtr = csv.writer(open ('out_year.csv', 'w'), delimiter=',', lineterminator='\\n')\n",
    "for x in X : wtr.writerow ([x])\n",
    "\n",
    "model_month = Sequential()\n",
    "model_month.add(Dense(100, activation='relu', input_dim=n_steps_in))\n",
    "model_month.add(Dense(50, activation='relu'))\n",
    "model_month.add(Dense(30, activation='relu'))\n",
    "model_month.add(Dense(15, activation='relu'))\n",
    "model_month.add(Dense(1))\n",
    "model_month.compile(optimizer='adam', loss='mse')\n",
    "model_month.summary()\n",
    "\n",
    "model_month.fit(X, y, epochs=40, verbose=0)"
   ]
  },
  {
   "cell_type": "code",
   "execution_count": 561,
   "metadata": {},
   "outputs": [
    {
     "name": "stdout",
     "output_type": "stream",
     "text": [
      "[[-0.7236978]]\n"
     ]
    }
   ],
   "source": [
    "x_input = array(merged_test_avgs)\n",
    "x_input = x_input.reshape((1, n_steps_in))\n",
    "yhat = model_day.predict(x_input, verbose=0)\n",
    "print(yhat)\n"
   ]
  },
  {
   "cell_type": "code",
   "execution_count": 22,
   "metadata": {},
   "outputs": [],
   "source": [
    "# predicting the days from the last 3 months:\n",
    "test_avgs = []\n",
    "daterange = pd.date_range(start='8/1/2019', end='11/1/2019', freq='M')\n",
    "for single_date in daterange:\n",
    "    single_date = single_date.to_pydatetime()\n",
    "    date = single_date.date()\n",
    "    url = \"https://www.metnet.hu/napi-adatok?sub=4&pid=10602&date=%s\" % date.strftime(\"%Y-%m-%d\")\n",
    "    tables = pd.io.html.read_html(url)\n",
    "    table = tables[1]\n",
    "    table = table.drop([3, 4, 5], axis=1)\n",
    "    table[0] = table[0].str.replace(r'^[a-zA-Z]+.*','')\n",
    "    table[1] = table[1].str.replace(r'^[a-zA-Z]+.*','')\n",
    "    table[2] = table[2].str.replace(r'^[a-zA-Z]+.*','')\n",
    "    table = table[table[1] != '']\n",
    "    table[1] = table[1].str.replace('°','')\n",
    "    table[2] = table[2].str.replace('°','')\n",
    "    table[1] = table[1].str.replace(',','.')\n",
    "    table[1] = table[1].str.replace('C','')\n",
    "    table[2] = table[2].str.replace(',','.')\n",
    "    table[2] = table[2].str.replace('C','')\n",
    "    table = table.set_index(0)\n",
    "    minmax = np.array(table, dtype=np.float32).tolist()\n",
    "    middle = [mean(i) for i in minmax]\n",
    "    test_avgs.append(middle)\n",
    "merged_test_avgs = list(itertools.chain.from_iterable(test_avgs))\n",
    "merged_test_avgs = list(filter(lambda a: a != 'nan', merged_test_avgs))\n",
    "\n"
   ]
  },
  {
   "cell_type": "code",
   "execution_count": 23,
   "metadata": {},
   "outputs": [],
   "source": [
    "# added a 28 for the last day of august so we have a 90 dim vector, i thought 28 was a reasonable number for that\n",
    "merged_test_avgs=[28] + merged_test_avgs[:-3] # last 3 days of october are nan obviously\n",
    "merged_test_avgs = np.array(merged_test_avgs)\n",
    "merged_test_avgs.shape"
   ]
  },
  {
   "cell_type": "code",
   "execution_count": 27,
   "metadata": {},
   "outputs": [
    {
     "name": "stdout",
     "output_type": "stream",
     "text": [
      "[[13.124974]]\n"
     ]
    }
   ],
   "source": [
    "# prediction for tomorrow:\n",
    "x_input = np.array(merged_test_avgs)\n",
    "x_input = x_input.reshape((1, n_steps_in))\n",
    "yhat = model_day.predict(x_input, verbose=0)\n",
    "print(yhat)\n"
   ]
  },
  {
   "cell_type": "code",
   "execution_count": 28,
   "metadata": {},
   "outputs": [
    {
     "name": "stdout",
     "output_type": "stream",
     "text": [
      "[[19.609913]]\n"
     ]
    }
   ],
   "source": [
    "# prediction for the next week:\n",
    "x_input = np.array(merged_test_avgs)\n",
    "x_input = x_input.reshape((1, n_steps_in))\n",
    "yhat = model_week.predict(x_input, verbose=0)\n",
    "print(yhat)"
   ]
  },
  {
   "cell_type": "code",
   "execution_count": 29,
   "metadata": {},
   "outputs": [
    {
     "name": "stdout",
     "output_type": "stream",
     "text": [
      "[[13.092235]]\n"
     ]
    }
   ],
   "source": [
    "# prediction for the next month:\n",
    "x_input = np.array(merged_test_avgs)\n",
    "x_input = x_input.reshape((1, n_steps_in))\n",
    "yhat = model_month.predict(x_input, verbose=0)\n",
    "print(yhat)"
   ]
  },
  {
   "cell_type": "code",
   "execution_count": null,
   "metadata": {},
   "outputs": [],
   "source": []
  }
 ],
 "metadata": {
  "kernelspec": {
   "display_name": "Python 3",
   "language": "python",
   "name": "python3"
  },
  "language_info": {
   "codemirror_mode": {
    "name": "ipython",
    "version": 3
   },
   "file_extension": ".py",
   "mimetype": "text/x-python",
   "name": "python",
   "nbconvert_exporter": "python",
   "pygments_lexer": "ipython3",
   "version": "3.7.1"
  }
 },
 "nbformat": 4,
 "nbformat_minor": 2
}
